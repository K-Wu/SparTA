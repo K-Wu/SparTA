{
 "cells": [
  {
   "cell_type": "markdown",
   "metadata": {},
   "source": [
    "### Sparse Linear Operator\n",
    "This is an example of how to create and tune a sparse linear operator."
   ]
  },
  {
   "cell_type": "code",
   "execution_count": 1,
   "metadata": {},
   "outputs": [],
   "source": [
    "import torch\n",
    "import sparta\n",
    "import matplotlib.pyplot as plt\n",
    "\n",
    "device = 'cuda:0'"
   ]
  },
  {
   "cell_type": "markdown",
   "metadata": {},
   "source": [
    "First, we need to create a PyTorch dense linear operator with `in_features` and `out_features` parameters.\n",
    "\n",
    "Note that the optimal implementation and configuration are different for different batch sizes, so we need to determine the `batch_size` at the very early stage."
   ]
  },
  {
   "cell_type": "code",
   "execution_count": 2,
   "metadata": {},
   "outputs": [],
   "source": [
    "batch_size, in_features, out_features = 4096, 3072, 768\n",
    "dense_linear = torch.nn.Linear(in_features, out_features, device=device)"
   ]
  },
  {
   "cell_type": "markdown",
   "metadata": {},
   "source": [
    "To build a linear operator with sparse weights, a weight mask tensor is required.\n",
    "\n",
    "Let's generate a mask with block size $32\\times32$, in which 80% of blocks are empty. "
   ]
  },
  {
   "cell_type": "code",
   "execution_count": 3,
   "metadata": {},
   "outputs": [
    {
     "data": {
      "text/plain": [
       "<matplotlib.image.AxesImage at 0x7eff333f0c90>"
      ]
     },
     "execution_count": 3,
     "metadata": {},
     "output_type": "execute_result"
    },
    {
     "data": {
      "image/png": "[encoded data removed]",
      "text/plain": [
       "<Figure size 640x480 with 1 Axes>"
      ]
     },
     "metadata": {},
     "output_type": "display_data"
    }
   ],
   "source": [
    "weight_mask = sparta.testing.block_mask((out_features, in_features), block=(32, 32), sparsity=0.8, device=device)\n",
    "plt.imshow(weight_mask.cpu().numpy())"
   ]
  },
  {
   "cell_type": "markdown",
   "metadata": {},
   "source": [
    "Create a ```sparta.nn.SparseLinear``` operator using the dense operator and the weight mask.\n",
    "\n",
    "Next, tune the sparse operator using a sample input. To save time, we will choose random search and take 30 trials here. This step may take a minute."
   ]
  },
  {
   "cell_type": "code",
   "execution_count": 4,
   "metadata": {},
   "outputs": [
    {
     "name": "stderr",
     "output_type": "stream",
     "text": [
      "STAGE:2023-12-21 22:10:18 1613216:1613216 ActivityProfilerController.cpp:312] Completed Stage: Warm Up\n",
      "STAGE:2023-12-21 22:10:18 1613216:1613216 ActivityProfilerController.cpp:318] Completed Stage: Collection\n",
      "STAGE:2023-12-21 22:10:18 1613216:1613216 ActivityProfilerController.cpp:322] Completed Stage: Post Processing\n",
      "STAGE:2023-12-21 22:10:18 1613216:1613216 ActivityProfilerController.cpp:312] Completed Stage: Warm Up\n",
      "STAGE:2023-12-21 22:10:18 1613216:1613216 ActivityProfilerController.cpp:318] Completed Stage: Collection\n",
      "STAGE:2023-12-21 22:10:18 1613216:1613216 ActivityProfilerController.cpp:322] Completed Stage: Post Processing\n",
      "STAGE:2023-12-21 22:10:18 1613216:1613216 ActivityProfilerController.cpp:312] Completed Stage: Warm Up\n",
      "STAGE:2023-12-21 22:10:18 1613216:1613216 ActivityProfilerController.cpp:318] Completed Stage: Collection\n",
      "STAGE:2023-12-21 22:10:18 1613216:1613216 ActivityProfilerController.cpp:322] Completed Stage: Post Processing\n",
      "STAGE:2023-12-21 22:10:18 1613216:1613216 ActivityProfilerController.cpp:312] Completed Stage: Warm Up\n",
      "STAGE:2023-12-21 22:10:18 1613216:1613216 ActivityProfilerController.cpp:318] Completed Stage: Collection\n",
      "STAGE:2023-12-21 22:10:18 1613216:1613216 ActivityProfilerController.cpp:322] Completed Stage: Post Processing\n",
      "STAGE:2023-12-21 22:10:19 1613216:1613216 ActivityProfilerController.cpp:312] Completed Stage: Warm Up\n",
      "STAGE:2023-12-21 22:10:19 1613216:1613216 ActivityProfilerController.cpp:318] Completed Stage: Collection\n",
      "STAGE:2023-12-21 22:10:19 1613216:1613216 ActivityProfilerController.cpp:322] Completed Stage: Post Processing\n",
      "STAGE:2023-12-21 22:10:19 1613216:1613216 ActivityProfilerController.cpp:312] Completed Stage: Warm Up\n",
      "STAGE:2023-12-21 22:10:19 1613216:1613216 ActivityProfilerController.cpp:318] Completed Stage: Collection\n",
      "STAGE:2023-12-21 22:10:19 1613216:1613216 ActivityProfilerController.cpp:322] Completed Stage: Post Processing\n",
      "STAGE:2023-12-21 22:10:19 1613216:1613216 ActivityProfilerController.cpp:312] Completed Stage: Warm Up\n",
      "STAGE:2023-12-21 22:10:19 1613216:1613216 ActivityProfilerController.cpp:318] Completed Stage: Collection\n",
      "STAGE:2023-12-21 22:10:19 1613216:1613216 ActivityProfilerController.cpp:322] Completed Stage: Post Processing\n",
      "STAGE:2023-12-21 22:10:19 1613216:1613216 ActivityProfilerController.cpp:312] Completed Stage: Warm Up\n",
      "STAGE:2023-12-21 22:10:19 1613216:1613216 ActivityProfilerController.cpp:318] Completed Stage: Collection\n",
      "STAGE:2023-12-21 22:10:19 1613216:1613216 ActivityProfilerController.cpp:322] Completed Stage: Post Processing\n",
      "STAGE:2023-12-21 22:10:19 1613216:1613216 ActivityProfilerController.cpp:312] Completed Stage: Warm Up\n",
      "STAGE:2023-12-21 22:10:19 1613216:1613216 ActivityProfilerController.cpp:318] Completed Stage: Collection\n",
      "STAGE:2023-12-21 22:10:19 1613216:1613216 ActivityProfilerController.cpp:322] Completed Stage: Post Processing\n",
      "STAGE:2023-12-21 22:10:19 1613216:1613216 ActivityProfilerController.cpp:312] Completed Stage: Warm Up\n",
      "STAGE:2023-12-21 22:10:19 1613216:1613216 ActivityProfilerController.cpp:318] Completed Stage: Collection\n",
      "STAGE:2023-12-21 22:10:19 1613216:1613216 ActivityProfilerController.cpp:322] Completed Stage: Post Processing\n",
      "STAGE:2023-12-21 22:10:19 1613216:1613216 ActivityProfilerController.cpp:312] Completed Stage: Warm Up\n",
      "STAGE:2023-12-21 22:10:19 1613216:1613216 ActivityProfilerController.cpp:318] Completed Stage: Collection\n",
      "STAGE:2023-12-21 22:10:19 1613216:1613216 ActivityProfilerController.cpp:322] Completed Stage: Post Processing\n",
      "STAGE:2023-12-21 22:10:19 1613216:1613216 ActivityProfilerController.cpp:312] Completed Stage: Warm Up\n",
      "STAGE:2023-12-21 22:10:19 1613216:1613216 ActivityProfilerController.cpp:318] Completed Stage: Collection\n",
      "STAGE:2023-12-21 22:10:19 1613216:1613216 ActivityProfilerController.cpp:322] Completed Stage: Post Processing\n",
      "STAGE:2023-12-21 22:10:20 1613216:1613216 ActivityProfilerController.cpp:312] Completed Stage: Warm Up\n",
      "STAGE:2023-12-21 22:10:20 1613216:1613216 ActivityProfilerController.cpp:318] Completed Stage: Collection\n",
      "STAGE:2023-12-21 22:10:20 1613216:1613216 ActivityProfilerController.cpp:322] Completed Stage: Post Processing\n",
      "STAGE:2023-12-21 22:10:20 1613216:1613216 ActivityProfilerController.cpp:312] Completed Stage: Warm Up\n",
      "STAGE:2023-12-21 22:10:20 1613216:1613216 ActivityProfilerController.cpp:318] Completed Stage: Collection\n",
      "STAGE:2023-12-21 22:10:20 1613216:1613216 ActivityProfilerController.cpp:322] Completed Stage: Post Processing\n",
      "STAGE:2023-12-21 22:10:21 1613216:1613216 ActivityProfilerController.cpp:312] Completed Stage: Warm Up\n",
      "STAGE:2023-12-21 22:10:21 1613216:1613216 ActivityProfilerController.cpp:318] Completed Stage: Collection\n",
      "STAGE:2023-12-21 22:10:21 1613216:1613216 ActivityProfilerController.cpp:322] Completed Stage: Post Processing\n",
      "STAGE:2023-12-21 22:10:21 1613216:1613216 ActivityProfilerController.cpp:312] Completed Stage: Warm Up\n",
      "STAGE:2023-12-21 22:10:21 1613216:1613216 ActivityProfilerController.cpp:318] Completed Stage: Collection\n",
      "STAGE:2023-12-21 22:10:21 1613216:1613216 ActivityProfilerController.cpp:322] Completed Stage: Post Processing\n",
      "STAGE:2023-12-21 22:10:21 1613216:1613216 ActivityProfilerController.cpp:312] Completed Stage: Warm Up\n",
      "STAGE:2023-12-21 22:10:21 1613216:1613216 ActivityProfilerController.cpp:318] Completed Stage: Collection\n",
      "STAGE:2023-12-21 22:10:21 1613216:1613216 ActivityProfilerController.cpp:322] Completed Stage: Post Processing\n",
      "STAGE:2023-12-21 22:10:21 1613216:1613216 ActivityProfilerController.cpp:312] Completed Stage: Warm Up\n",
      "STAGE:2023-12-21 22:10:21 1613216:1613216 ActivityProfilerController.cpp:318] Completed Stage: Collection\n",
      "STAGE:2023-12-21 22:10:21 1613216:1613216 ActivityProfilerController.cpp:322] Completed Stage: Post Processing\n",
      "STAGE:2023-12-21 22:10:21 1613216:1613216 ActivityProfilerController.cpp:312] Completed Stage: Warm Up\n",
      "STAGE:2023-12-21 22:10:21 1613216:1613216 ActivityProfilerController.cpp:318] Completed Stage: Collection\n",
      "STAGE:2023-12-21 22:10:21 1613216:1613216 ActivityProfilerController.cpp:322] Completed Stage: Post Processing\n"
     ]
    },
    {
     "name": "stdout",
     "output_type": "stream",
     "text": [
      "before serialization {'root': {'forward:C': {'_impl': 'sparta', 'BLOCK_SIZE_M_VALUE': 64, 'BLOCK_SIZE_K_VALUE': 32, 'BLOCK_SIZE_N_VALUE': 32}}}\n",
      "after serialization {'root': {'forward:C': {'_impl': 'sparta', 'BLOCK_SIZE_M_VALUE': 64, 'BLOCK_SIZE_K_VALUE': 32, 'BLOCK_SIZE_N_VALUE': 32}}}\n"
     ]
    },
    {
     "name": "stderr",
     "output_type": "stream",
     "text": [
      "STAGE:2023-12-21 22:10:21 1613216:1613216 ActivityProfilerController.cpp:312] Completed Stage: Warm Up\n",
      "STAGE:2023-12-21 22:10:21 1613216:1613216 ActivityProfilerController.cpp:318] Completed Stage: Collection\n",
      "STAGE:2023-12-21 22:10:21 1613216:1613216 ActivityProfilerController.cpp:322] Completed Stage: Post Processing\n",
      "STAGE:2023-12-21 22:10:21 1613216:1613216 ActivityProfilerController.cpp:312] Completed Stage: Warm Up\n",
      "STAGE:2023-12-21 22:10:21 1613216:1613216 ActivityProfilerController.cpp:318] Completed Stage: Collection\n",
      "STAGE:2023-12-21 22:10:21 1613216:1613216 ActivityProfilerController.cpp:322] Completed Stage: Post Processing\n",
      "STAGE:2023-12-21 22:10:21 1613216:1613216 ActivityProfilerController.cpp:312] Completed Stage: Warm Up\n",
      "STAGE:2023-12-21 22:10:21 1613216:1613216 ActivityProfilerController.cpp:318] Completed Stage: Collection\n",
      "STAGE:2023-12-21 22:10:21 1613216:1613216 ActivityProfilerController.cpp:322] Completed Stage: Post Processing\n",
      "STAGE:2023-12-21 22:10:21 1613216:1613216 ActivityProfilerController.cpp:312] Completed Stage: Warm Up\n",
      "STAGE:2023-12-21 22:10:21 1613216:1613216 ActivityProfilerController.cpp:318] Completed Stage: Collection\n",
      "STAGE:2023-12-21 22:10:21 1613216:1613216 ActivityProfilerController.cpp:322] Completed Stage: Post Processing\n",
      "STAGE:2023-12-21 22:10:21 1613216:1613216 ActivityProfilerController.cpp:312] Completed Stage: Warm Up\n",
      "STAGE:2023-12-21 22:10:21 1613216:1613216 ActivityProfilerController.cpp:318] Completed Stage: Collection\n",
      "STAGE:2023-12-21 22:10:21 1613216:1613216 ActivityProfilerController.cpp:322] Completed Stage: Post Processing\n",
      "STAGE:2023-12-21 22:10:21 1613216:1613216 ActivityProfilerController.cpp:312] Completed Stage: Warm Up\n",
      "STAGE:2023-12-21 22:10:21 1613216:1613216 ActivityProfilerController.cpp:318] Completed Stage: Collection\n",
      "STAGE:2023-12-21 22:10:21 1613216:1613216 ActivityProfilerController.cpp:322] Completed Stage: Post Processing\n"
     ]
    }
   ],
   "source": [
    "x = torch.rand((batch_size, in_features), device=device)\n",
    "sparse_linear = sparta.nn.SparseLinear(dense_linear, weight_mask=weight_mask)\n",
    "\n",
    "# The tune() function will find the best config,\n",
    "# build the sparse operator and return the best config.\n",
    "best_config = sparta.nn.tune(\n",
    "    sparse_linear,\n",
    "    sample_inputs=[x],\n",
    "    algo='rand',\n",
    "    max_trials=30,\n",
    ")\n",
    "\n",
    "\n",
    "print(\"before serialization\", best_config)\n",
    "import jsonpickle\n",
    "\n",
    "with open(\"sparse_linear_best_config.json\", \"w\") as f:\n",
    "    f.write(jsonpickle.dumps(best_config))\n",
    "best_config = jsonpickle.loads(\n",
    "    open(\"sparse_linear_best_config.json\", \"r\").read()\n",
    ")\n",
    "print(\"after serialization\", best_config)\n",
    "\n",
    "# If you have already tuned once and saved the best config,\n",
    "# you can skip the tune() step and build the operator directly.\n",
    "sparse_linear.build(best_config['root'], sample_inputs=[x])"
   ]
  },
  {
   "cell_type": "markdown",
   "metadata": {},
   "source": [
    "Let's check whether the sparse operator works correctly."
   ]
  },
  {
   "cell_type": "code",
   "execution_count": 5,
   "metadata": {},
   "outputs": [],
   "source": [
    "sparse_weight = dense_linear.weight * weight_mask\n",
    "dense_linear.load_state_dict(dict(weight=sparse_weight, bias=dense_linear.bias))\n",
    "torch.testing.assert_close(sparse_linear(x), dense_linear(x))"
   ]
  },
  {
   "cell_type": "markdown",
   "metadata": {},
   "source": [
    "Finally, take a look at how much time can be saved by using the sparse linear operator!"
   ]
  },
  {
   "cell_type": "code",
   "execution_count": 6,
   "metadata": {},
   "outputs": [
    {
     "name": "stdout",
     "output_type": "stream",
     "text": [
      "Dense linear forward latency: 1.0272425842285156 ms\n",
      "Sparse linear forward latency: 0.4643577575683594 ms\n"
     ]
    }
   ],
   "source": [
    "dense_latency = sparta.testing.profile(dense_linear, inputs=[x], num_warmups=100, num_iters=100)\n",
    "print(f'Dense linear forward latency: {dense_latency} ms')\n",
    "sparse_latency = sparta.testing.profile(sparse_linear, inputs=[x], num_warmups=100, num_iters=100)\n",
    "print(f'Sparse linear forward latency: {sparse_latency} ms')"
   ]
  }
 ],
 "metadata": {
  "kernelspec": {
   "display_name": "Python 3.9.12 ('base')",
   "language": "python",
   "name": "python3"
  },
  "language_info": {
   "codemirror_mode": {
    "name": "ipython",
    "version": 3
   },
   "file_extension": ".py",
   "mimetype": "text/x-python",
   "name": "python",
   "nbconvert_exporter": "python",
   "pygments_lexer": "ipython3",
   "version": "3.11.3"
  },
  "orig_nbformat": 4,
  "vscode": {
   "interpreter": {
    "hash": "a9c648f235a6034420253553732dbe431468efa26b97e5b938450249de7084a1"
   }
  }
 },
 "nbformat": 4,
 "nbformat_minor": 2
}
